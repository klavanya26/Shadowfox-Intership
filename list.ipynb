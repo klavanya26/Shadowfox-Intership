{
 "cells": [
  {
   "cell_type": "code",
   "execution_count": 1,
   "id": "ba392ffd-7574-45dd-9b15-426120479bc1",
   "metadata": {},
   "outputs": [
    {
     "name": "stdout",
     "output_type": "stream",
     "text": [
      "1. Number of members: 6\n",
      "2. After adding Batgirl and Nightwing: ['Superman', 'Batman', 'Wonder Woman', 'Flash', 'Aquaman', 'Green Lantern', 'Batgirl', 'Nightwing']\n",
      "3. After making Wonder Woman the leader: ['Wonder Woman', 'Superman', 'Batman', 'Flash', 'Aquaman', 'Green Lantern', 'Batgirl', 'Nightwing']\n",
      "4. After separating Aquaman and Flash: ['Wonder Woman', 'Superman', 'Batman', 'Flash', 'Aquaman', 'Green Lantern', 'Batgirl', 'Nightwing']\n",
      "5. New team assembled: ['Cyborg', 'Shazam', 'Hawkgirl', 'Martian Manhunter', 'Green Arrow']\n",
      "6. Alphabetically sorted list: ['Cyborg', 'Green Arrow', 'Hawkgirl', 'Martian Manhunter', 'Shazam']\n",
      "New leader: Cyborg\n"
     ]
    }
   ],
   "source": [
    "# Initial list\n",
    "justice_league = [\"Superman\", \"Batman\", \"Wonder Woman\", \"Flash\", \"Aquaman\", \"Green Lantern\"]\n",
    "\n",
    "# 1. Calculate number of members\n",
    "num_members = len(justice_league)\n",
    "print(\"1. Number of members:\", num_members)\n",
    "\n",
    "# 2. Add Batgirl and Nightwing\n",
    "justice_league.extend([\"Batgirl\", \"Nightwing\"])\n",
    "print(\"2. After adding Batgirl and Nightwing:\", justice_league)\n",
    "\n",
    "# 3. Move Wonder Woman to the beginning\n",
    "justice_league.remove(\"Wonder Woman\")\n",
    "justice_league.insert(0, \"Wonder Woman\")\n",
    "print(\"3. After making Wonder Woman the leader:\", justice_league)\n",
    "\n",
    "# 4. Move \"Green Lantern\" between Aquaman and Flash\n",
    "justice_league.remove(\"Green Lantern\")\n",
    "flash_index = justice_league.index(\"Flash\")\n",
    "aquaman_index = justice_league.index(\"Aquaman\")\n",
    "\n",
    "# Insert between Aquaman and Flash (Flash is later in the list)\n",
    "# So insert after Aquaman\n",
    "justice_league.insert(aquaman_index + 1, \"Green Lantern\")\n",
    "print(\"4. After separating Aquaman and Flash:\", justice_league)\n",
    "\n",
    "# 5. Replace the entire list with a new team\n",
    "justice_league = [\"Cyborg\", \"Shazam\", \"Hawkgirl\", \"Martian Manhunter\", \"Green Arrow\"]\n",
    "print(\"5. New team assembled:\", justice_league)\n",
    "\n",
    "# 6. Sort alphabetically\n",
    "justice_league.sort()\n",
    "print(\"6. Alphabetically sorted list:\", justice_league)\n",
    "print(\"New leader:\", justice_league[0])  # BONUS\n"
   ]
  },
  {
   "cell_type": "code",
   "execution_count": null,
   "id": "9a652721-79ad-468b-8c29-d9a19d03e278",
   "metadata": {},
   "outputs": [],
   "source": []
  }
 ],
 "metadata": {
  "kernelspec": {
   "display_name": "Python 3 (ipykernel)",
   "language": "python",
   "name": "python3"
  },
  "language_info": {
   "codemirror_mode": {
    "name": "ipython",
    "version": 3
   },
   "file_extension": ".py",
   "mimetype": "text/x-python",
   "name": "python",
   "nbconvert_exporter": "python",
   "pygments_lexer": "ipython3",
   "version": "3.12.7"
  }
 },
 "nbformat": 4,
 "nbformat_minor": 5
}
