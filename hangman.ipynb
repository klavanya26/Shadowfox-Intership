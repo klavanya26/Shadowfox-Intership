{
 "cells": [
  {
   "cell_type": "code",
   "execution_count": null,
   "id": "cf082b6d-0c29-4dec-8c0c-832155e1d267",
   "metadata": {},
   "outputs": [
    {
     "name": "stdout",
     "output_type": "stream",
     "text": [
      "Welcome to Hangman!\n",
      "\n",
      "Word: _ _ _ _ _ _ _ _ _ _ _\n",
      "Wrong guesses left: 6\n",
      "\n"
     ]
    },
    {
     "name": "stdin",
     "output_type": "stream",
     "text": [
      "Guess a letter:  a\n"
     ]
    },
    {
     "name": "stdout",
     "output_type": "stream",
     "text": [
      "\n",
      "Word: _ _ _ _ _ a _ _ _ _ _\n",
      "Wrong guesses left: 6\n",
      "\n"
     ]
    },
    {
     "name": "stdin",
     "output_type": "stream",
     "text": [
      "Guess a letter:  p\n"
     ]
    },
    {
     "name": "stdout",
     "output_type": "stream",
     "text": [
      "\n",
      "Word: p _ _ _ _ a _ _ _ _ _\n",
      "Wrong guesses left: 6\n",
      "\n"
     ]
    },
    {
     "name": "stdin",
     "output_type": "stream",
     "text": [
      "Guess a letter:  r\n"
     ]
    },
    {
     "name": "stdout",
     "output_type": "stream",
     "text": [
      "\n",
      "Word: p r _ _ r a _ _ _ _ _\n",
      "Wrong guesses left: 6\n",
      "\n"
     ]
    },
    {
     "name": "stdin",
     "output_type": "stream",
     "text": [
      "Guess a letter:  o\n"
     ]
    },
    {
     "name": "stdout",
     "output_type": "stream",
     "text": [
      "\n",
      "Word: p r o _ r a _ _ _ _ _\n",
      "Wrong guesses left: 6\n",
      "\n"
     ]
    },
    {
     "name": "stdin",
     "output_type": "stream",
     "text": [
      "Guess a letter:  g\n"
     ]
    },
    {
     "name": "stdout",
     "output_type": "stream",
     "text": [
      "\n",
      "Word: p r o g r a _ _ _ _ g\n",
      "Wrong guesses left: 6\n",
      "\n"
     ]
    },
    {
     "name": "stdin",
     "output_type": "stream",
     "text": [
      "Guess a letter:  m\n"
     ]
    },
    {
     "name": "stdout",
     "output_type": "stream",
     "text": [
      "\n",
      "Word: p r o g r a m m _ _ g\n",
      "Wrong guesses left: 6\n",
      "\n"
     ]
    },
    {
     "name": "stdin",
     "output_type": "stream",
     "text": [
      "Guess a letter:  i\n"
     ]
    },
    {
     "name": "stdout",
     "output_type": "stream",
     "text": [
      "\n",
      "Word: p r o g r a m m i _ g\n",
      "Wrong guesses left: 6\n",
      "\n"
     ]
    },
    {
     "name": "stdin",
     "output_type": "stream",
     "text": [
      "Guess a letter:  n\n"
     ]
    },
    {
     "name": "stdout",
     "output_type": "stream",
     "text": [
      "\n",
      "Congratulations! You guessed the word: programming\n"
     ]
    }
   ],
   "source": [
    "import random\n",
    "\n",
    "def hangman():\n",
    "    words = [\"python\", \"hangman\", \"developer\", \"challenge\", \"programming\"]\n",
    "    word = random.choice(words)\n",
    "    guessed = set()\n",
    "    wrong_guesses = 0\n",
    "    max_attempts = 6\n",
    "\n",
    "    def display_word():\n",
    "        return \" \".join([letter if letter in guessed else \"_\" for letter in word])\n",
    "\n",
    "    def display_hangman(wrong_guesses):\n",
    "        stages = [\n",
    "            \"\",\n",
    "            \" O \",\n",
    "            \" O\\n | \",\n",
    "            \" O\\n/| \",\n",
    "            \" O\\n/|\\\\\",\n",
    "            \" O\\n/|\\\\\\n/ \",\n",
    "            \" O\\n/|\\\\\\n/ \\\\\"\n",
    "        ]\n",
    "        return stages[wrong_guesses]\n",
    "\n",
    "    print(\"Welcome to Hangman!\")\n",
    "\n",
    "    while wrong_guesses < max_attempts:\n",
    "        print(\"\\nWord:\", display_word())\n",
    "        print(\"Wrong guesses left:\", max_attempts - wrong_guesses)\n",
    "        print(display_hangman(wrong_guesses))\n",
    "        \n",
    "        guess = input(\"Guess a letter: \").lower()\n",
    "        if not guess.isalpha() or len(guess) != 1:\n",
    "            print(\"Please enter a single alphabet letter.\")\n",
    "            continue\n",
    "\n",
    "        if guess in guessed:\n",
    "            print(\"You already guessed that letter.\")\n",
    "            continue\n",
    "\n",
    "        guessed.add(guess)\n",
    "        if guess not in word:\n",
    "            wrong_guesses += 1\n",
    "            print(f\"Wrong guess! {guess} is not in the word.\")\n",
    "\n",
    "        if all(letter in guessed for letter in word):\n",
    "            print(f\"\\nCongratulations! You guessed the word: {word}\")\n",
    "            break\n",
    "    else:\n",
    "        print(f\"\\nGame Over! The word was: {word}\")\n",
    "\n",
    "    play_again = input(\"\\nDo you want to play again? (yes/no): \").lower()\n",
    "    if play_again in [\"yes\", \"y\"]:\n",
    "        hangman()\n",
    "\n",
    "# Start the game\n",
    "hangman()\n"
   ]
  },
  {
   "cell_type": "code",
   "execution_count": null,
   "id": "6383edd2-3692-4974-adb2-8954065b91b5",
   "metadata": {},
   "outputs": [],
   "source": []
  }
 ],
 "metadata": {
  "kernelspec": {
   "display_name": "Python 3 (ipykernel)",
   "language": "python",
   "name": "python3"
  },
  "language_info": {
   "codemirror_mode": {
    "name": "ipython",
    "version": 3
   },
   "file_extension": ".py",
   "mimetype": "text/x-python",
   "name": "python",
   "nbconvert_exporter": "python",
   "pygments_lexer": "ipython3",
   "version": "3.12.7"
  }
 },
 "nbformat": 4,
 "nbformat_minor": 5
}
