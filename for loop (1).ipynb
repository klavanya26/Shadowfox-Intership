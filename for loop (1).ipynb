{
 "cells": [
  {
   "cell_type": "code",
   "execution_count": 1,
   "id": "d36b9b5c-8942-4623-8688-2b2dc8eaaf5d",
   "metadata": {},
   "outputs": [
    {
     "name": "stdout",
     "output_type": "stream",
     "text": [
      "Rolling the die 20 times...\n",
      "Roll 1: 5\n",
      "Roll 2: 2\n",
      "Roll 3: 5\n",
      "Roll 4: 1\n",
      "Roll 5: 5\n",
      "Roll 6: 6\n",
      "Roll 7: 1\n",
      "Roll 8: 6\n",
      "Roll 9: 6\n",
      "Roll 10: 3\n",
      "Roll 11: 6\n",
      "Roll 12: 3\n",
      "Roll 13: 3\n",
      "Roll 14: 4\n",
      "Roll 15: 3\n",
      "Roll 16: 3\n",
      "Roll 17: 3\n",
      "Roll 18: 3\n",
      "Roll 19: 4\n",
      "Roll 20: 2\n",
      "\n",
      "--- Statistics ---\n",
      "Number of 6s rolled: 4\n",
      "Number of 1s rolled: 2\n",
      "Number of times two 6s rolled in a row: 1\n"
     ]
    }
   ],
   "source": [
    "import random\n",
    "# Simulate 20 die rolls\n",
    "six_count = 0\n",
    "one_count = 0\n",
    "consecutive_six_count = 0\n",
    "previous_roll = 0\n",
    "print(\"Rolling the die 20 times...\")\n",
    "for i in range(20):\n",
    "    roll = random.randint(1, 6)\n",
    "    print(f\"Roll {i + 1}: {roll}\")\n",
    "    if roll == 6:\n",
    "        six_count += 1\n",
    "        if previous_roll == 6:\n",
    "            consecutive_six_count += 1\n",
    "    if roll == 1:\n",
    "        one_count += 1\n",
    "    previous_roll = roll\n",
    "print(\"\\n--- Statistics ---\")\n",
    "print(\"Number of 6s rolled:\", six_count)\n",
    "print(\"Number of 1s rolled:\", one_count)\n",
    "print(\"Number of times two 6s rolled in a row:\", consecutive_six_count)"
   ]
  },
  {
   "cell_type": "code",
   "execution_count": 2,
   "id": "05a95fe2-555d-4216-809f-898f96ddc834",
   "metadata": {},
   "outputs": [
    {
     "name": "stdout",
     "output_type": "stream",
     "text": [
      "\n",
      "You have completed 10 jumping jacks.\n"
     ]
    },
    {
     "name": "stdin",
     "output_type": "stream",
     "text": [
      "Are you tired? (yes/y or no/n):  n\n"
     ]
    },
    {
     "name": "stdout",
     "output_type": "stream",
     "text": [
      "90 jumping jacks remaining.\n",
      "\n",
      "You have completed 20 jumping jacks.\n"
     ]
    },
    {
     "name": "stdin",
     "output_type": "stream",
     "text": [
      "Are you tired? (yes/y or no/n):  y\n",
      "Do you want to skip the remaining sets? (yes/y or no/n):  y\n"
     ]
    },
    {
     "name": "stdout",
     "output_type": "stream",
     "text": [
      "\n",
      "You completed a total of 20 jumping jacks.\n"
     ]
    }
   ],
   "source": [
    "total_jacks = 100\n",
    "set_size = 10\n",
    "completed = 0\n",
    "for i in range(0, total_jacks, set_size):\n",
    "    completed += set_size\n",
    "    print(f\"\\nYou have completed {completed} jumping jacks.\")\n",
    "    tired = input(\"Are you tired? (yes/y or no/n): \").strip().lower()\n",
    "    if tired in [\"yes\", \"y\"]:\n",
    "        skip = input(\"Do you want to skip the remaining sets? (yes/y or no/n): \").strip().lower()\n",
    "        if skip in [\"yes\", \"y\"]:\n",
    "            print(f\"\\nYou completed a total of {completed} jumping jacks.\")\n",
    "            break\n",
    "        else:\n",
    "            remaining = total_jacks - completed\n",
    "            print(f\"{remaining} jumping jacks remaining.\")\n",
    "    elif tired in [\"no\", \"n\"]:\n",
    "        remaining = total_jacks - completed\n",
    "        if remaining > 0:\n",
    "            print(f\"{remaining} jumping jacks remaining.\")\n",
    "    else:\n",
    "        print(\"Invalid input, continuing the workout...\")\n",
    "if completed == total_jacks:\n",
    "    print(\"\\nCongratulations! You completed the workout.\")"
   ]
  },
  {
   "cell_type": "code",
   "execution_count": null,
   "id": "3ee058a3-8bf9-47a4-bf4e-707f7dcec194",
   "metadata": {},
   "outputs": [],
   "source": []
  }
 ],
 "metadata": {
  "kernelspec": {
   "display_name": "Python 3 (ipykernel)",
   "language": "python",
   "name": "python3"
  },
  "language_info": {
   "codemirror_mode": {
    "name": "ipython",
    "version": 3
   },
   "file_extension": ".py",
   "mimetype": "text/x-python",
   "name": "python",
   "nbconvert_exporter": "python",
   "pygments_lexer": "ipython3",
   "version": "3.12.7"
  }
 },
 "nbformat": 4,
 "nbformat_minor": 5
}
