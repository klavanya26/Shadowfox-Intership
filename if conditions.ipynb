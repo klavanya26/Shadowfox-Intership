{
 "cells": [
  {
   "cell_type": "code",
   "execution_count": 5,
   "id": "34d4a19f-2f8f-402e-a84a-ff46fe481fc2",
   "metadata": {},
   "outputs": [
    {
     "name": "stdin",
     "output_type": "stream",
     "text": [
      "Enter height in meters:  1.75\n",
      "Enter weight in kilograms:  60\n"
     ]
    },
    {
     "name": "stdout",
     "output_type": "stream",
     "text": [
      "Your BMI is: 19.59\n",
      "Normal\n"
     ]
    }
   ],
   "source": [
    "# BMI Category Program\n",
    "height = float(input(\"Enter height in meters: \"))\n",
    "weight = float(input(\"Enter weight in kilograms: \"))\n",
    "\n",
    "bmi = weight / (height ** 2)\n",
    "print(\"Your BMI is:\", round(bmi, 2))\n",
    "\n",
    "if bmi >= 30:\n",
    "    print(\"Obesity\")\n",
    "elif 25 <= bmi < 30:\n",
    "    print(\"Overweight\")\n",
    "elif 18.5 <= bmi < 25:\n",
    "    print(\"Normal\")\n",
    "else:\n",
    "    print(\"Underweight\")"
   ]
  },
  {
   "cell_type": "code",
   "execution_count": 9,
   "id": "2738432c-ca7f-4e9a-a729-13e117ecb88a",
   "metadata": {},
   "outputs": [
    {
     "name": "stdin",
     "output_type": "stream",
     "text": [
      "Enter a city name:  Bangalore\n"
     ]
    },
    {
     "name": "stdout",
     "output_type": "stream",
     "text": [
      "Bangalore is in India\n"
     ]
    }
   ],
   "source": [
    "# City to Country Program\n",
    "Australia = [\"Sydney\", \"Melbourne\", \"Brisbane\", \"Perth\"]\n",
    "UAE = [\"Dubai\", \"Abu Dhabi\", \"Sharjah\", \"Ajman\"]\n",
    "India = [\"Mumbai\", \"Bangalore\", \"Chennai\", \"Delhi\"]\n",
    "\n",
    "city = input(\"Enter a city name: \")\n",
    "\n",
    "if city in Australia:\n",
    "    print(f\"{city} is in Australia\")\n",
    "elif city in UAE:\n",
    "    print(f\"{city} is in UAE\")\n",
    "elif city in India:\n",
    "    print(f\"{city} is in India\")\n",
    "else:\n",
    "    print(\"City not found in our database.\")"
   ]
  },
  {
   "cell_type": "code",
   "execution_count": 11,
   "id": "bc7ec1bd-654c-47e6-9603-323d7ad1e2bd",
   "metadata": {},
   "outputs": [
    {
     "name": "stdin",
     "output_type": "stream",
     "text": [
      "Enter the first city:  Bangalore\n",
      "Enter the second city:  Chennai\n"
     ]
    },
    {
     "name": "stdout",
     "output_type": "stream",
     "text": [
      "Both cities are in India\n"
     ]
    }
   ],
   "source": [
    "# Same Country Checker\n",
    "Australia = [\"Sydney\", \"Melbourne\", \"Brisbane\", \"Perth\"]\n",
    "UAE = [\"Dubai\", \"Abu Dhabi\", \"Sharjah\", \"Ajman\"]\n",
    "India = [\"Mumbai\", \"Bangalore\", \"Chennai\", \"Delhi\"]\n",
    "\n",
    "city1 = input(\"Enter the first city: \")\n",
    "city2 = input(\"Enter the second city: \")\n",
    "\n",
    "def get_country(city):\n",
    "    if city in Australia:\n",
    "        return \"Australia\"\n",
    "    elif city in UAE:\n",
    "        return \"UAE\"\n",
    "    elif city in India:\n",
    "        return \"India\"\n",
    "    else:\n",
    "        return None\n",
    "\n",
    "country1 = get_country(city1)\n",
    "country2 = get_country(city2)\n",
    "\n",
    "if country1 and country2:\n",
    "    if country1 == country2:\n",
    "        print(f\"Both cities are in {country1}\")\n",
    "    else:\n",
    "        print(\"They don't belong to the same country\")\n",
    "else:\n",
    "    print(\"One or both cities are not in the database.\")"
   ]
  },
  {
   "cell_type": "code",
   "execution_count": null,
   "id": "5a8c8e88-97c6-4c8a-90e5-f67b39cf62e7",
   "metadata": {},
   "outputs": [],
   "source": []
  }
 ],
 "metadata": {
  "kernelspec": {
   "display_name": "Python 3 (ipykernel)",
   "language": "python",
   "name": "python3"
  },
  "language_info": {
   "codemirror_mode": {
    "name": "ipython",
    "version": 3
   },
   "file_extension": ".py",
   "mimetype": "text/x-python",
   "name": "python",
   "nbconvert_exporter": "python",
   "pygments_lexer": "ipython3",
   "version": "3.12.7"
  }
 },
 "nbformat": 4,
 "nbformat_minor": 5
}
