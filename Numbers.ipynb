{
 "cells": [
  {
   "cell_type": "code",
   "execution_count": 1,
   "id": "f0ab6be1-a89b-4260-b628-919fdf74ea22",
   "metadata": {},
   "outputs": [
    {
     "name": "stdout",
     "output_type": "stream",
     "text": [
      "Formatted result: 221\n",
      "Representation used: Octal (base 8)\n"
     ]
    }
   ],
   "source": [
    "# 1. Format function with 145 and 'o'\n",
    "def format_example(value, representation):\n",
    "    result = format(value, representation)\n",
    "    return result\n",
    "\n",
    "formatted_result = format_example(145, 'o') \n",
    "print(\"Formatted result:\", formatted_result)\n",
    "print(\"Representation used: Octal (base 8)\")"
   ]
  },
  {
   "cell_type": "code",
   "execution_count": 2,
   "id": "c21c7d2e-e961-4607-adc8-2083d0d87c34",
   "metadata": {},
   "outputs": [
    {
     "name": "stdout",
     "output_type": "stream",
     "text": [
      "Area of the pond: 22155.84\n",
      "Total water in the pond (liters): 31018\n"
     ]
    }
   ],
   "source": [
    "# 2. Area of the circular pond\n",
    "radius = 84\n",
    "pi = 3.14\n",
    "pond_area = pi * radius ** 2\n",
    "print(\"Area of the pond:\", pond_area)\n",
    "water_per_sq_meter = 1.4\n",
    "total_water = int(pond_area * water_per_sq_meter)\n",
    "print(\"Total water in the pond (liters):\", total_water)"
   ]
  },
  {
   "cell_type": "code",
   "execution_count": 3,
   "id": "7d83d80b-e383-4b4d-9296-880c73f13778",
   "metadata": {},
   "outputs": [
    {
     "name": "stdout",
     "output_type": "stream",
     "text": [
      "Speed in meters per second: 1\n"
     ]
    }
   ],
   "source": [
    "# 3. Speed calculation\n",
    "distance = 490  \n",
    "time_minutes = 7\n",
    "time_seconds = time_minutes * 60  \n",
    "speed = int(distance / time_seconds)\n",
    "print(\"Speed in meters per second:\", speed)"
   ]
  }
 ],
 "metadata": {
  "kernelspec": {
   "display_name": "Python 3 (ipykernel)",
   "language": "python",
   "name": "python3"
  },
  "language_info": {
   "codemirror_mode": {
    "name": "ipython",
    "version": 3
   },
   "file_extension": ".py",
   "mimetype": "text/x-python",
   "name": "python",
   "nbconvert_exporter": "python",
   "pygments_lexer": "ipython3",
   "version": "3.12.7"
  }
 },
 "nbformat": 4,
 "nbformat_minor": 5
}
