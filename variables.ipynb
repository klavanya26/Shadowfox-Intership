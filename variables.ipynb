{
 "cells": [
  {
   "cell_type": "code",
   "execution_count": 1,
   "id": "637bf1ed-9e2f-4cff-9286-24f8c3dcbe0b",
   "metadata": {},
   "outputs": [
    {
     "name": "stdout",
     "output_type": "stream",
     "text": [
      "Value of pi: 3.142857142857143\n",
      "Data type of pi: <class 'float'>\n"
     ]
    }
   ],
   "source": [
    "# 1. Create a variable named pi and store the value 22/7 in it.\n",
    "pi = 22 / 7\n",
    "print(\"Value of pi:\", pi)\n",
    "print(\"Data type of pi:\", type(pi))  # Checking the data type"
   ]
  },
  {
   "cell_type": "code",
   "execution_count": 2,
   "id": "6060b12f-554a-4923-9de2-8b5304e02df7",
   "metadata": {},
   "outputs": [
    {
     "name": "stdout",
     "output_type": "stream",
     "text": [
      "Value stored in for_value: 4\n"
     ]
    }
   ],
   "source": [
    "# 2. Create a variable called 'for' and assign it a value 4\n",
    "for_value = 4\n",
    "print(\"Value stored in for_value:\", for_value)"
   ]
  },
  {
   "cell_type": "code",
   "execution_count": 3,
   "id": "8eba071d-2618-42ff-a1a1-b76e4673a969",
   "metadata": {},
   "outputs": [
    {
     "name": "stdout",
     "output_type": "stream",
     "text": [
      "Simple Interest for 3 years is: 150.0\n"
     ]
    }
   ],
   "source": [
    "# 3. Calculate Simple Interest\n",
    "P = 1000   \n",
    "R = 5      \n",
    "T = 3     \n",
    "SI = (P * R * T) / 100\n",
    "print(\"Simple Interest for 3 years is:\", SI)\n"
   ]
  },
  {
   "cell_type": "code",
   "execution_count": null,
   "id": "4e85ff2e-7658-4877-aaa1-4aac18bc4f3a",
   "metadata": {},
   "outputs": [],
   "source": []
  }
 ],
 "metadata": {
  "kernelspec": {
   "display_name": "Python 3 (ipykernel)",
   "language": "python",
   "name": "python3"
  },
  "language_info": {
   "codemirror_mode": {
    "name": "ipython",
    "version": 3
   },
   "file_extension": ".py",
   "mimetype": "text/x-python",
   "name": "python",
   "nbconvert_exporter": "python",
   "pygments_lexer": "ipython3",
   "version": "3.12.7"
  }
 },
 "nbformat": 4,
 "nbformat_minor": 5
}
