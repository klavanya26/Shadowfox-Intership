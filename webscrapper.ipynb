{
 "cells": [
  {
   "cell_type": "code",
   "execution_count": 1,
   "id": "3c7d714b-ee69-413d-85b2-8f239167dab8",
   "metadata": {},
   "outputs": [
    {
     "name": "stdout",
     "output_type": "stream",
     "text": [
      "Scraping successful! Data saved to 'quotes.csv'.\n"
     ]
    }
   ],
   "source": [
    "import requests\n",
    "from bs4 import BeautifulSoup\n",
    "import csv\n",
    "\n",
    "# URL to scrape (you can replace this with ShadowFox practice page or any real site)\n",
    "url = \"https://quotes.toscrape.com/\"\n",
    "\n",
    "try:\n",
    "    response = requests.get(url)\n",
    "    response.raise_for_status()\n",
    "\n",
    "    soup = BeautifulSoup(response.text, \"html.parser\")\n",
    "    quotes = soup.find_all(\"span\", class_=\"text\")\n",
    "    authors = soup.find_all(\"small\", class_=\"author\")\n",
    "\n",
    "    with open(\"quotes.csv\", \"w\", newline='', encoding='utf-8') as file:\n",
    "        writer = csv.writer(file)\n",
    "        writer.writerow([\"Quote\", \"Author\"])\n",
    "\n",
    "        for quote, author in zip(quotes, authors):\n",
    "            writer.writerow([quote.text, author.text])\n",
    "    \n",
    "    print(\"Scraping successful! Data saved to 'quotes.csv'.\")\n",
    "\n",
    "except requests.exceptions.RequestException as e:\n",
    "    print(\"Error fetching data:\", e)\n"
   ]
  }
 ],
 "metadata": {
  "kernelspec": {
   "display_name": "Python 3 (ipykernel)",
   "language": "python",
   "name": "python3"
  },
  "language_info": {
   "codemirror_mode": {
    "name": "ipython",
    "version": 3
   },
   "file_extension": ".py",
   "mimetype": "text/x-python",
   "name": "python",
   "nbconvert_exporter": "python",
   "pygments_lexer": "ipython3",
   "version": "3.12.7"
  }
 },
 "nbformat": 4,
 "nbformat_minor": 5
}
